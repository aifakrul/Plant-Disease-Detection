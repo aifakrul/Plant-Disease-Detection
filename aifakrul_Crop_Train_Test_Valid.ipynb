{
 "cells": [
  {
   "cell_type": "markdown",
   "metadata": {},
   "source": [
    "# MD Fakrul Islam, Certified Data Scientist, Machine Learning, Deep Learning   Engineer and Big Data Professional\n",
    "# Email: fakruldsebd@gmail.com\n",
    "# Phone: +8801954345775\n",
    "# https://www.linkedin.com/in/fakrul-islam-bd/\n",
    "# https://github.com/aifakrul\n",
    "## Contact for nlp/nlu, image, audio/speech, video processing and contextual ai in real time to solve your complex **Business AI Problem**"
   ]
  },
  {
   "cell_type": "code",
   "execution_count": 8,
   "metadata": {},
   "outputs": [],
   "source": [
    "import split_folders"
   ]
  },
  {
   "cell_type": "code",
   "execution_count": 9,
   "metadata": {},
   "outputs": [],
   "source": [
    "CROP_IMAGE_LOCATION=\"/home/fakrul/Apple/input\"\n",
    "CROP_IMAGE_SPLIT_LOCATION=\"/home/fakrul/Music/output\""
   ]
  },
  {
   "cell_type": "code",
   "execution_count": 10,
   "metadata": {},
   "outputs": [
    {
     "name": "stderr",
     "output_type": "stream",
     "text": [
      "Copying files: 1101 files [00:00, 9182.49 files/s]\n"
     ]
    }
   ],
   "source": [
    "#/home/fakrul/Music/zakaria/Apple/Black_Rot\n",
    "\n",
    "split_folders.ratio(CROP_IMAGE_LOCATION, output=CROP_IMAGE_SPLIT_LOCATION, seed=1337, ratio=(.90, .10)) # 80%, 10%, 10%"
   ]
  },
  {
   "cell_type": "code",
   "execution_count": null,
   "metadata": {},
   "outputs": [],
   "source": []
  }
 ],
 "metadata": {
  "kernelspec": {
   "display_name": "Python 3",
   "language": "python",
   "name": "python3"
  },
  "language_info": {
   "codemirror_mode": {
    "name": "ipython",
    "version": 3
   },
   "file_extension": ".py",
   "mimetype": "text/x-python",
   "name": "python",
   "nbconvert_exporter": "python",
   "pygments_lexer": "ipython3",
   "version": "3.7.7"
  }
 },
 "nbformat": 4,
 "nbformat_minor": 4
}
