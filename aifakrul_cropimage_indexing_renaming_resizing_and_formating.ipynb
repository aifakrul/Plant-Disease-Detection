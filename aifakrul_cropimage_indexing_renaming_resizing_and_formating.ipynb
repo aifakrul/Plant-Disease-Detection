{
 "cells": [
  {
   "cell_type": "markdown",
   "metadata": {},
   "source": [
    "# MD Fakrul Islam, Certified Data Scientist, Machine Learning, Deep Learning   Engineer and Big Data Professional\n",
    "# Email: fakruldsebd@gmail.com\n",
    "# Phone: +8801954345775\n",
    "# https://www.linkedin.com/in/fakrul-islam-bd/\n",
    "# https://github.com/aifakrul\n",
    "## Contact for nlp/nlu, image, audio/speech, video processing and contextual ai in real time to solve your complex **Business AI Problem**"
   ]
  },
  {
   "cell_type": "code",
   "execution_count": 1,
   "metadata": {},
   "outputs": [],
   "source": [
    "from glob import glob  \n",
    "import os                                                         \n",
    "import cv2 \n",
    "import re\n",
    "from PIL import Image\n",
    "from resizeimage import resizeimage\n",
    "from os.path import join\n",
    "from glob import glob\n"
   ]
  },
  {
   "cell_type": "code",
   "execution_count": 2,
   "metadata": {},
   "outputs": [
    {
     "name": "stdout",
     "output_type": "stream",
     "text": [
      "Image Dimension Loaded\n",
      "_Tomato_Yellow_Leaf_Curl_Virus\n"
     ]
    }
   ],
   "source": [
    "IMG_HEIGHT = 224\n",
    "IMG_WIDTH = 224\n",
    "IMAGE_SIZE = [IMG_HEIGHT, IMG_WIDTH]\n",
    "#Crop Images Location\n",
    "CROP_IMAGE_LOCATION='/home/fakrul/Downloads/PlantVillage-Dataset-master/raw/color/Tomato___Tomato_Yellow_Leaf_Curl_Virus'\n",
    "CROP_NAME = '_Tomato'\n",
    "DISEASES_NAME = '_Yellow_Leaf_Curl_Virus'\n",
    "FINAL_TAG = CROP_NAME+DISEASES_NAME\n",
    "print('Image Dimension Loaded')\n",
    "print(FINAL_TAG)"
   ]
  },
  {
   "cell_type": "code",
   "execution_count": 3,
   "metadata": {},
   "outputs": [
    {
     "name": "stdout",
     "output_type": "stream",
     "text": [
      "Function getsize loaded\n"
     ]
    }
   ],
   "source": [
    "def getListSize(itel_list):\n",
    "    count = 0\n",
    "    for img_path in itel_list:  \n",
    "        count = count + 1\n",
    "    return count\n",
    "\n",
    "print ('Function getsize loaded')"
   ]
  },
  {
   "cell_type": "code",
   "execution_count": 4,
   "metadata": {},
   "outputs": [
    {
     "name": "stdout",
     "output_type": "stream",
     "text": [
      "Function process_image load\n"
     ]
    }
   ],
   "source": [
    "def process_image(image_path, count, tag):\n",
    "    path, filename = os.path.split(image_path)   \n",
    "    filename_w_ext = os.path.basename(image_path)\n",
    "    filename, file_extension = os.path.splitext(filename_w_ext)\n",
    "    #print('Path, File Name and Extension: ',path, filename, file_extension)\n",
    "    _newfilename=path+\"/\"+str(count)+\"_\"+tag+file_extension\n",
    "    #print(_newfilename)\n",
    "    with open(image_path, 'r+b') as f:\n",
    "        with Image.open(f) as image:\n",
    "            cover = resizeimage.resize_cover(image, [IMG_HEIGHT, IMG_WIDTH])\n",
    "            cover.save(_newfilename, image.format)\n",
    "            os.remove(image_path) \n",
    "\n",
    "            \n",
    "print('Function process_image load')"
   ]
  },
  {
   "cell_type": "markdown",
   "metadata": {},
   "source": [
    "# Indexing, Formatting, Resizing and Renaming all CROP Images"
   ]
  },
  {
   "cell_type": "code",
   "execution_count": 5,
   "metadata": {},
   "outputs": [],
   "source": [
    "CROP_IMAGE_Files = []\n",
    "for ext in ('*.JPEG', '*.JPG', '*.jpg', 'jpeg'):\n",
    "   CROP_IMAGE_Files.extend(glob(join(CROP_IMAGE_LOCATION, ext)))"
   ]
  },
  {
   "cell_type": "code",
   "execution_count": 6,
   "metadata": {},
   "outputs": [
    {
     "name": "stdout",
     "output_type": "stream",
     "text": [
      "Total CROP_IMAGE_Files : 5357\n"
     ]
    }
   ],
   "source": [
    "print('Total CROP_IMAGE_Files :',getListSize(CROP_IMAGE_Files))"
   ]
  },
  {
   "cell_type": "code",
   "execution_count": 7,
   "metadata": {},
   "outputs": [
    {
     "name": "stdout",
     "output_type": "stream",
     "text": [
      "CROP_LOCATION_IMAGES: /home/fakrul/Downloads/PlantVillage-Dataset-master/raw/color/Tomato___Tomato_Yellow_Leaf_Curl_Virus\n",
      "Total Images: 5357\n"
     ]
    }
   ],
   "source": [
    "count=0\n",
    "print('CROP_LOCATION_IMAGES:',CROP_IMAGE_LOCATION)\n",
    "# Load all images\n",
    "for IMAGE_PATH in CROP_IMAGE_Files:\n",
    "    count = count + 1 \n",
    "    process_image(IMAGE_PATH, count, FINAL_TAG)\n",
    "\n",
    "print(\"Total Images: \" +str(count))"
   ]
  }
 ],
 "metadata": {
  "kernelspec": {
   "display_name": "Python 3",
   "language": "python",
   "name": "python3"
  },
  "language_info": {
   "codemirror_mode": {
    "name": "ipython",
    "version": 3
   },
   "file_extension": ".py",
   "mimetype": "text/x-python",
   "name": "python",
   "nbconvert_exporter": "python",
   "pygments_lexer": "ipython3",
   "version": "3.7.7"
  }
 },
 "nbformat": 4,
 "nbformat_minor": 4
}
